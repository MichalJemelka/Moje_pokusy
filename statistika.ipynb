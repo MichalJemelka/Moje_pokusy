{
 "cells": [
  {
   "cell_type": "code",
   "execution_count": 22,
   "id": "45eb75c0-43cf-472b-b683-063c21d53933",
   "metadata": {},
   "outputs": [
    {
     "data": {
      "text/plain": [
       "0.0       0.00\n",
       "0.1       0.00\n",
       "0.2       0.00\n",
       "0.3       0.28\n",
       "0.4       1.55\n",
       "0.5       3.09\n",
       "0.6       5.75\n",
       "0.7       9.16\n",
       "0.8      12.73\n",
       "0.9      17.19\n",
       "1.0    3000.00\n",
       "Name: value, dtype: float64"
      ]
     },
     "execution_count": 22,
     "metadata": {},
     "output_type": "execute_result"
    }
   ],
   "source": [
    "import pandas as pd \n",
    "\n",
    "df_raw = pd.read_csv(\n",
    "    r'C:\\Users\\mjemelka\\Desktop\\Python\\01_Data\\product_prices.csv',  \n",
    "    sep=';',  \n",
    "    decimal=',',\n",
    "    encoding = 'utf-8'\n",
    ")\n",
    "df_raw.columns = ['province', 'product_types', 'currency', 'group_id', 'product_line', 'value', 'date']  # overwriting column names\n",
    "df_raw\n",
    "df_raw['value'].describe()\n",
    "df_raw[\"value\"] = pd.to_numeric(df_raw[\"value\"], errors=\"coerce\") #tyhle dva řádky mi převedou nečíselné hodnoty na číselné\n",
    "col = df_raw['value'].head() #tyhle dva řádky mi převedou nečíselné hodnoty na číselné\n",
    "df_raw['value'].mean() # průměr\n",
    "df_raw['value'].std() # směrodatná odchylka\n",
    "df_raw['value'].median() # medián\n",
    "df_raw['value'].quantile([0, 0.1, 0.2, 0.3, 0.4, 0.5, 0.6, 0.7, 0.8, 0.9, 1]) # kvantil"
   ]
  },
  {
   "cell_type": "code",
   "execution_count": null,
   "id": "be687418-193d-4de1-9f34-f07611da2740",
   "metadata": {},
   "outputs": [],
   "source": []
  }
 ],
 "metadata": {
  "kernelspec": {
   "display_name": "Python 3 (ipykernel)",
   "language": "python",
   "name": "python3"
  },
  "language_info": {
   "codemirror_mode": {
    "name": "ipython",
    "version": 3
   },
   "file_extension": ".py",
   "mimetype": "text/x-python",
   "name": "python",
   "nbconvert_exporter": "python",
   "pygments_lexer": "ipython3",
   "version": "3.13.5"
  }
 },
 "nbformat": 4,
 "nbformat_minor": 5
}
