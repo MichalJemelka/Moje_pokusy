{
 "cells": [
  {
   "cell_type": "code",
   "execution_count": 24,
   "id": "1884490a-a7e7-400d-a70f-99b195fc1160",
   "metadata": {},
   "outputs": [
    {
     "name": "stdout",
     "output_type": "stream",
     "text": [
      "Nejmenší datum: 1888-0\n",
      "Největší datum: 2099-13\n"
     ]
    },
    {
     "data": {
      "text/plain": [
       "array([nan, 'whole pickled cucumbers 0.9l - per 1pc.',\n",
       "       'fresh chichen egges - per 666pcs.',\n",
       "       '30% tomato concentrate - per 1kg',\n",
       "       'frozen carrot and pea mix - per 1kg',\n",
       "       'beet sugar white, bagged - per 1kg',\n",
       "       'apple juice, boxed - per 1l', 'white table salt bagged - per 1kg',\n",
       "       'natural chocolate plain - per 1kg'], dtype=object)"
      ]
     },
     "execution_count": 24,
     "metadata": {},
     "output_type": "execute_result"
    }
   ],
   "source": [
    "import pandas as pd\n",
    "df = pd.read_csv(\n",
    "    r'C:\\Users\\mjemelka\\Desktop\\Python\\01_Data\\product_prices_renamed.csv',\n",
    "  sep=';',\n",
    "  encoding='UTF-8',\n",
    "  decimal='.'\n",
    ")\n",
    "df.query(\"date == '1888-0'\")\n",
    "df[df['date'].isin(['1888-0'])]\n",
    "df['date'].isin(['1888-0'])\n",
    "print(\"Nejmenší datum:\", df[\"date\"].min())\n",
    "print(\"Největší datum:\", df[\"date\"].max())\n",
    "df.query(\"date >= '2025-10'\")\n",
    "df['date'].unique()\n",
    "#In the value column, too high value was introduced – find it and locate the row where it is (use query),\n",
    "df['value'].describe()\n",
    "df['value'].max()\n",
    "#There was a spelling error in the product_types column for one of the products. Find it and the corresponding rows. How many such rows are there?\n",
    "df['product_types'].unique()"
   ]
  },
  {
   "cell_type": "code",
   "execution_count": null,
   "id": "54cba5df-d907-4033-b070-c9d3ad6206a4",
   "metadata": {},
   "outputs": [],
   "source": []
  }
 ],
 "metadata": {
  "kernelspec": {
   "display_name": "Python 3 (ipykernel)",
   "language": "python",
   "name": "python3"
  },
  "language_info": {
   "codemirror_mode": {
    "name": "ipython",
    "version": 3
   },
   "file_extension": ".py",
   "mimetype": "text/x-python",
   "name": "python",
   "nbconvert_exporter": "python",
   "pygments_lexer": "ipython3",
   "version": "3.13.5"
  }
 },
 "nbformat": 4,
 "nbformat_minor": 5
}
