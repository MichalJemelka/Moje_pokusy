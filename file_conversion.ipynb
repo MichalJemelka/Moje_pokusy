{
 "cells": [
  {
   "cell_type": "code",
   "execution_count": 14,
   "id": "7010e96c-bc04-45a0-a9b2-e60946ddeff1",
   "metadata": {},
   "outputs": [
    {
     "name": "stdout",
     "output_type": "stream",
     "text": [
      "Requirement already satisfied: openpyxl in c:\\users\\mjemelka\\appdata\\local\\anaconda3\\lib\\site-packages (3.0.9)\n",
      "Collecting openpyxl\n",
      "  Downloading openpyxl-3.1.5-py2.py3-none-any.whl.metadata (2.5 kB)\n",
      "Requirement already satisfied: et-xmlfile in c:\\users\\mjemelka\\appdata\\local\\anaconda3\\lib\\site-packages (from openpyxl) (1.1.0)\n",
      "Downloading openpyxl-3.1.5-py2.py3-none-any.whl (250 kB)\n",
      "Installing collected packages: openpyxl\n",
      "  Attempting uninstall: openpyxl\n",
      "    Found existing installation: openpyxl 3.0.9\n",
      "    Uninstalling openpyxl-3.0.9:\n",
      "      Successfully uninstalled openpyxl-3.0.9\n",
      "Successfully installed openpyxl-3.1.5\n",
      "Note: you may need to restart the kernel to use updated packages.\n"
     ]
    }
   ],
   "source": [
    "pip install --upgrade openpyxl"
   ]
  },
  {
   "cell_type": "code",
   "execution_count": 3,
   "id": "c3f45bd6-9f57-416f-8b03-d908331afd32",
   "metadata": {},
   "outputs": [
    {
     "name": "stdout",
     "output_type": "stream",
     "text": [
      "dict_keys(['2', '4'])\n",
      "List: 2\n",
      "            province currency  product_group_id  \\\n",
      "0       SUBCARPATHIA      PLN                 2   \n",
      "1  KUYAVIA-POMERANIA      PLN                 2   \n",
      "2      LOWER SILESIA      PLN                 2   \n",
      "3     WARMIA-MASURIA      PLN                 2   \n",
      "4             POLAND      PLN                 2   \n",
      "\n",
      "                      product_line  value     date  \n",
      "0        pork ham cooked - per 1kg  21.37   2013-3  \n",
      "1  barley groats sausage - per 1kg   3.55  2019-12  \n",
      "2       dressed chickens - per 1kg   6.14   2019-2  \n",
      "3    Italian head cheese - per 1kg   5.63   2002-3  \n",
      "4      pork belly cooked - per 1kg  19.62   2017-3   \n",
      "\n",
      "List: 4\n",
      "            province currency  product_group_id  \\\n",
      "0          PODLASKIE      PLN                 4   \n",
      "1     WARMIA-MASURIA      PLN                 4   \n",
      "2  KUYAVIA-POMERANIA      PLN                 4   \n",
      "3            MASOVIA      PLN                 4   \n",
      "4      LOWER SILESIA      PLN                 4   \n",
      "\n",
      "                               product_line  value     date  \n",
      "0   plain mixed bread (wheat-rye) - per 1kg   3.86   2017-7  \n",
      "1      Poznan wheat flour, bagged - per 1kg   0.95   2009-5  \n",
      "2      Poznan wheat flour, bagged - per 1kg   1.17  2008-11  \n",
      "3  buckwheat groats roasted whole - per 1kg   6.22   2015-9  \n",
      "4      Poznan wheat flour, bagged - per 1kg   1.05   2000-3   \n",
      "\n"
     ]
    }
   ],
   "source": [
    "import pandas as pd\n",
    "import openpyxl\n",
    "from openpyxl import Workbook\n",
    "\n",
    "# 1. Načtení dat\n",
    "df = pd.read_csv(\n",
    "    r'C:\\Users\\mjemelka\\Desktop\\Python\\01_Data\\product_prices_cleaned.csv',\n",
    "    sep=';',\n",
    ")\n",
    "\n",
    "# 2. Vytvoření nového Excel sešitu\n",
    "wb = Workbook()\n",
    "\n",
    "# openpyxl vytvoří defaultně 1 list s názvem \"Sheet\"\n",
    "# ten smažeme, protože si listy vytvoříme sami\n",
    "default_sheet = wb.active\n",
    "wb.remove(default_sheet)\n",
    "\n",
    "# 3. Iterace přes jednotlivé skupiny\n",
    "for idx, group_id in enumerate(df['product_group_id'].unique()):\n",
    "    # vybereme jen řádky pro daný product_group_id\n",
    "    group_df = df[df['product_group_id'] == group_id]\n",
    "\n",
    "    # vytvoříme nový list s názvem podle ID\n",
    "    ws = wb.create_sheet(title=str(group_id), index=idx)\n",
    "\n",
    "    # zapíšeme hlavičku (názvy sloupců)\n",
    "    ws.append(group_df.columns.tolist())\n",
    "\n",
    "    # zapíšeme data řádek po řádku\n",
    "    for row in group_df.itertuples(index=False, name=None):\n",
    "        ws.append(row)\n",
    "\n",
    "# 4. Uložení sešitu\n",
    "wb.save(r'C:\\Users\\mjemelka\\Desktop\\Python\\01_Data\\product_prices_grouped.xlsx')\n",
    "\n",
    "# Načtení všech listů najednou\n",
    "sheets = pd.read_excel(\n",
    "    r'C:\\Users\\mjemelka\\Desktop\\Python\\01_Data\\product_prices_grouped.xlsx',\n",
    "    sheet_name=None\n",
    ")\n",
    "\n",
    "# sheets je slovník {název_listu: DataFrame}\n",
    "print(sheets.keys())   # vypíše názvy listů\n",
    "\n",
    "# vypíše mi první řádky z každého listu\n",
    "for sheet_name, data in sheets.items():\n",
    "    print(f\"List: {sheet_name}\")\n",
    "    print(data.head(), \"\\n\")    "
   ]
  },
  {
   "cell_type": "code",
   "execution_count": null,
   "id": "970272d3-9122-49d2-becb-383654a949cd",
   "metadata": {},
   "outputs": [],
   "source": []
  }
 ],
 "metadata": {
  "kernelspec": {
   "display_name": "Python 3 (ipykernel)",
   "language": "python",
   "name": "python3"
  },
  "language_info": {
   "codemirror_mode": {
    "name": "ipython",
    "version": 3
   },
   "file_extension": ".py",
   "mimetype": "text/x-python",
   "name": "python",
   "nbconvert_exporter": "python",
   "pygments_lexer": "ipython3",
   "version": "3.13.5"
  }
 },
 "nbformat": 4,
 "nbformat_minor": 5
}
