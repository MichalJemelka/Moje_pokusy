{
 "cells": [
  {
   "cell_type": "markdown",
   "id": "expected-bottom",
   "metadata": {},
   "source": [
    "# Exercise 1 - BeautifulSoup\n",
    "\n",
    "The aim of this exercise is to test if all the necessary libraries and drivers are installed correctly. Before classes make sure that everything works correctly and in case of any problems and ask your mentor for help.\n",
    "\n",
    "If everything works as it should eventually you will see the rates for five currencies read from the Bankier.pl website."
   ]
  },
  {
   "cell_type": "code",
   "execution_count": null,
   "id": "regulated-truth",
   "metadata": {},
   "outputs": [],
   "source": [
    "# Install the `requests` and 'beautifulsoup4' libraries here\n",
    "\n"
   ]
  },
  {
   "cell_type": "code",
   "execution_count": 1,
   "id": "enclosed-controversy",
   "metadata": {},
   "outputs": [
    {
     "name": "stdout",
     "output_type": "stream",
     "text": [
      "ERROR!!! We expected to get five exchange rates - something went wrong!\n"
     ]
    }
   ],
   "source": [
    "import requests\n",
    "from bs4 import BeautifulSoup\n",
    "\n",
    "website = requests.get('https://www.bankier.pl/waluty')\n",
    "content = BeautifulSoup(website.text, 'html.parser')\n",
    "\n",
    "div_rates = content.find('div', id = 'boxKursyNbpTab1')\n",
    "counter = 0\n",
    "\n",
    "if div_rates:\n",
    "    rows = div_rates.find_all('tr')\n",
    "    for row in rows:\n",
    "        span_name = row.find('span', class_ = 'name')\n",
    "        span_value = row.find('span', class_ = 'value')\n",
    "        \n",
    "        if span_name and span_value:\n",
    "            currency = span_name.text\n",
    "            exchange = span_value.text\n",
    "            print(f'{currency} is now worth {exchange} PLN')\n",
    "            counter += 1\n",
    "\n",
    "if counter == 5:\n",
    "    print('Five currency rates checked - everything works!')\n",
    "else:\n",
    "    print('ERROR!!! We expected to get five exchange rates - something went wrong!')"
   ]
  },
  {
   "cell_type": "code",
   "execution_count": 2,
   "id": "8ab02aab-cc54-4897-b1ac-3fff04446488",
   "metadata": {},
   "outputs": [
    {
     "name": "stdout",
     "output_type": "stream",
     "text": [
      "Dolar Amerykański (USD) is now worth 3.6253 PLN\n",
      "Euro (EUR) is now worth 4.2559 PLN\n",
      "Frank Szwajcarski (CHF) is now worth 4.5527 PLN\n",
      "Funt Szterling (GBP) is now worth 4.8784 PLN\n",
      "Korona Czeska (CZK) is now worth 0.1754 PLN\n",
      "Five currency rates checked - everything works!\n"
     ]
    }
   ],
   "source": [
    "import requests\n",
    "\n",
    "# 1) Nastavení\n",
    "WANTED = [\"EUR\", \"USD\", \"CHF\", \"GBP\", \"CZK\"]  # 5 měn, které chceme\n",
    "API_URL = \"https://api.nbp.pl/api/exchangerates/tables/A?format=json\"\n",
    "HEADERS = {\"User-Agent\": \"Mozilla/5.0 (edu-scraper)\"}\n",
    "\n",
    "# 2) Stažení dat\n",
    "try:\n",
    "    resp = requests.get(API_URL, headers=HEADERS, timeout=10)\n",
    "    resp.raise_for_status()\n",
    "    tables = resp.json()\n",
    "except requests.RequestException as e:\n",
    "    print(\"ERROR!!! We expected to get five exchange rates - something went wrong!\")\n",
    "    print(f\"Network/API error: {e}\")\n",
    "else:\n",
    "    # 3) Zpracování JSONu\n",
    "    try:\n",
    "        rates = tables[0][\"rates\"]  # tabulka A\n",
    "    except (IndexError, KeyError, TypeError) as e:\n",
    "        print(\"ERROR!!! We expected to get five exchange rates - something went wrong!\")\n",
    "        print(f\"Unexpected JSON structure: {e}\")\n",
    "    else:\n",
    "        counter = 0\n",
    "        for r in rates:\n",
    "            code = r.get(\"code\")\n",
    "            if code in WANTED:\n",
    "                name = r.get(\"currency\", \"\").title()\n",
    "                mid = r.get(\"mid\")\n",
    "                # mid je číslo (float); vytiskneme s 4 des. místy\n",
    "                try:\n",
    "                    mid_str = f\"{float(mid):.4f}\"\n",
    "                except (TypeError, ValueError):\n",
    "                    mid_str = str(mid)\n",
    "                print(f\"{name} ({code}) is now worth {mid_str} PLN\")\n",
    "                counter += 1\n",
    "\n",
    "        # 4) Kontrola výsledku (stejný formát hlášky jako ve cvičení)\n",
    "        if counter == 5:\n",
    "            print(\"Five currency rates checked - everything works!\")\n",
    "        else:\n",
    "            print(\"ERROR!!! We expected to get five exchange rates - something went wrong!\")\n",
    "            print(f\"Found {counter} out of 5. Check the WANTED list or API response.\")\n"
   ]
  },
  {
   "cell_type": "code",
   "execution_count": null,
   "id": "b9ab92e4-e575-4cc0-9729-2654df1480af",
   "metadata": {},
   "outputs": [],
   "source": []
  }
 ],
 "metadata": {
  "kernelspec": {
   "display_name": "Python 3 (ipykernel)",
   "language": "python",
   "name": "python3"
  },
  "language_info": {
   "codemirror_mode": {
    "name": "ipython",
    "version": 3
   },
   "file_extension": ".py",
   "mimetype": "text/x-python",
   "name": "python",
   "nbconvert_exporter": "python",
   "pygments_lexer": "ipython3",
   "version": "3.13.5"
  }
 },
 "nbformat": 4,
 "nbformat_minor": 5
}
