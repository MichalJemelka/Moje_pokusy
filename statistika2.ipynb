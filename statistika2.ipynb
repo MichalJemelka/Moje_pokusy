{
 "cells": [
  {
   "cell_type": "code",
   "execution_count": 1,
   "id": "45eb75c0-43cf-472b-b683-063c21d53933",
   "metadata": {},
   "outputs": [
    {
     "data": {
      "text/plain": [
       "count     137088\n",
       "unique      3751\n",
       "top          0.0\n",
       "freq       39059\n",
       "Name: value, dtype: object"
      ]
     },
     "execution_count": 1,
     "metadata": {},
     "output_type": "execute_result"
    }
   ],
   "source": [
    "import pandas as pd \n",
    "\n",
    "df_raw = pd.read_csv(\n",
    "    r'C:\\Users\\mjemelka\\Desktop\\Python\\01_Data\\product_prices.csv',  \n",
    "    sep=';',  \n",
    "    decimal=',',\n",
    "    encoding = 'utf-8'\n",
    ")\n",
    "df_raw.columns = ['province', 'product_types', 'currency', 'group_id', 'product_line', 'value', 'date']  # overwriting column names\n",
    "df_raw.columns\n",
    "df_raw['value'].describe()\n"
   ]
  },
  {
   "cell_type": "code",
   "execution_count": null,
   "id": "be687418-193d-4de1-9f34-f07611da2740",
   "metadata": {},
   "outputs": [],
   "source": []
  }
 ],
 "metadata": {
  "kernelspec": {
   "display_name": "Python 3 (ipykernel)",
   "language": "python",
   "name": "python3"
  },
  "language_info": {
   "codemirror_mode": {
    "name": "ipython",
    "version": 3
   },
   "file_extension": ".py",
   "mimetype": "text/x-python",
   "name": "python",
   "nbconvert_exporter": "python",
   "pygments_lexer": "ipython3",
   "version": "3.13.5"
  }
 },
 "nbformat": 4,
 "nbformat_minor": 5
}
