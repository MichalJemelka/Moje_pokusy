{
 "cells": [
  {
   "cell_type": "code",
   "execution_count": 9,
   "id": "c4308e38-33a6-4de9-ac61-961c53a79b7a",
   "metadata": {},
   "outputs": [],
   "source": [
    "import psycopg2\n",
    "connection = psycopg2.connect(\n",
    "    host='localhost',\n",
    "    user='postgres',\n",
    "    port='5432',\n",
    "    password='popokatepetl',\n",
    "    dbname='clasicmodels',\n",
    ")"
   ]
  },
  {
   "cell_type": "code",
   "execution_count": 10,
   "id": "baa9b048-0403-48a6-8a98-27ede58af0cc",
   "metadata": {},
   "outputs": [],
   "source": [
    "cursor = connection.cursor()"
   ]
  },
  {
   "cell_type": "code",
   "execution_count": 11,
   "id": "c96b867f-c17e-4ef4-bf52-8985306e308f",
   "metadata": {},
   "outputs": [
    {
     "name": "stdout",
     "output_type": "stream",
     "text": [
      "Signal Gift Stores, telephone: 7025551838\n",
      "Australian Collectors, Co., telephone: 03 9520 4555\n",
      "La Rochelle Gifts, telephone: 40.67.8555\n"
     ]
    }
   ],
   "source": [
    "cursor.execute('SELECT * FROM customers LIMIT 3')\n",
    "\n",
    "for row in cursor:\n",
    "    print(f'{row[1]}, telephone: {row[4]}')"
   ]
  },
  {
   "cell_type": "code",
   "execution_count": 15,
   "id": "cfac20e6-4891-4a6f-bf08-b154b40effa3",
   "metadata": {},
   "outputs": [
    {
     "name": "stdout",
     "output_type": "stream",
     "text": [
      "Average buyprice: 54.40\n"
     ]
    }
   ],
   "source": [
    "cursor = connection.cursor()\n",
    "\n",
    "sql = \"select buyprice from products;\"\n",
    "cursor.execute(sql)\n",
    "\n",
    "total = 0\n",
    "count = cursor.rowcount # počet vrácených řádků\n",
    "\n",
    "for row in cursor:\n",
    "    total += row[0]\n",
    "\n",
    "average_price =  total / count if count > 0 else 0\n",
    "\n",
    "print(f\"Average buyprice: {average_price:.2f}\")"
   ]
  },
  {
   "cell_type": "code",
   "execution_count": null,
   "id": "1a478a40-89ed-46ad-8fd6-5d15c306a673",
   "metadata": {},
   "outputs": [],
   "source": []
  },
  {
   "cell_type": "code",
   "execution_count": null,
   "id": "725f285d-fbc9-4369-a5f4-f278b4bb3811",
   "metadata": {},
   "outputs": [],
   "source": []
  }
 ],
 "metadata": {
  "kernelspec": {
   "display_name": "Python 3 (ipykernel)",
   "language": "python",
   "name": "python3"
  },
  "language_info": {
   "codemirror_mode": {
    "name": "ipython",
    "version": 3
   },
   "file_extension": ".py",
   "mimetype": "text/x-python",
   "name": "python",
   "nbconvert_exporter": "python",
   "pygments_lexer": "ipython3",
   "version": "3.13.5"
  }
 },
 "nbformat": 4,
 "nbformat_minor": 5
}
