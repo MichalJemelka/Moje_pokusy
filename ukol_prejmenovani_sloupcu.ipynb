{
 "cells": [
  {
   "cell_type": "code",
   "execution_count": 10,
   "id": "6bcf35e8-d74c-4727-b296-535f5f5ab497",
   "metadata": {},
   "outputs": [
    {
     "name": "stdout",
     "output_type": "stream",
     "text": [
      "            province Goods types currency  Group ID  \\\n",
      "0       SUBCARPATHIA         NaN      PLN         2   \n",
      "1               ŁÓDŹ         NaN      PLN         4   \n",
      "2  KUYAVIA-POMERANIA         NaN      PLN         2   \n",
      "3      LOWER SILESIA         NaN      PLN         2   \n",
      "4     WARMIA-MASURIA         NaN      PLN         2   \n",
      "\n",
      "                     Product types  value     date  \n",
      "0        pork ham cooked - per 1kg  21.37   2013-3  \n",
      "1                  bread - per 1kg    NaN   2018-2  \n",
      "2  barley groats sausage - per 1kg   3.55  2019-12  \n",
      "3       dressed chickens - per 1kg   6.14   2019-2  \n",
      "4    Italian head cheese - per 1kg   5.63   2002-3  \n"
     ]
    }
   ],
   "source": [
    "import pandas as pd\n",
    "df = pd.read_csv(\n",
    "    r'C:\\Users\\mjemelka\\Desktop\\Python\\01_Data\\product_prices.csv',\n",
    "  sep=';',\n",
    "  encoding='UTF-8',\n",
    "  decimal='.'\n",
    ")\n",
    "\n",
    "df_renamed = df.rename(columns={\n",
    "    'Name': 'province',\n",
    "    'Types of goods': 'product_types',\n",
    "    'Measurement unit': 'currency',\n",
    "    'id': 'id',\n",
    "    'Types of products': 'product_line',\n",
    "    'Value': 'value',\n",
    "    'Date': 'date'\n",
    "})\n",
    "\n",
    "print(df_renamed.head())"
   ]
  },
  {
   "cell_type": "code",
   "execution_count": null,
   "id": "72245494-f2b1-43d3-a45d-52cf787e362d",
   "metadata": {},
   "outputs": [],
   "source": []
  }
 ],
 "metadata": {
  "kernelspec": {
   "display_name": "Python 3 (ipykernel)",
   "language": "python",
   "name": "python3"
  },
  "language_info": {
   "codemirror_mode": {
    "name": "ipython",
    "version": 3
   },
   "file_extension": ".py",
   "mimetype": "text/x-python",
   "name": "python",
   "nbconvert_exporter": "python",
   "pygments_lexer": "ipython3",
   "version": "3.13.5"
  }
 },
 "nbformat": 4,
 "nbformat_minor": 5
}
