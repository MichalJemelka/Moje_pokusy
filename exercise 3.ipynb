{
 "cells": [
  {
   "cell_type": "code",
   "execution_count": 4,
   "id": "1eababef-342c-4f18-b7c8-2dd32250c980",
   "metadata": {},
   "outputs": [
    {
     "name": "stdout",
     "output_type": "stream",
     "text": [
      "- 1.1761 EUR/USD\n",
      "- 0.8648 EUR/GBP\n",
      "- 4.2489 EUR/PLN\n",
      "- 1.6225 EUR/CAD\n",
      "- 24.3253 EUR/CZK\n"
     ]
    }
   ],
   "source": [
    "import requests\n",
    "\n",
    "# Jednoduchý příklad: aktuální kurzy vůči EUR\n",
    "url = \"https://open.er-api.com/v6/latest/EUR\"\n",
    "response = requests.get(url)\n",
    "\n",
    "data = response.json()\n",
    "if data.get(\"result\") != \"success\":\n",
    "    raise RuntimeError(f\"API vrátilo chybu: {data}\")\n",
    "rates = data[\"rates\"]\n",
    "\n",
    "# Vypíšeme jen vybrané měny\n",
    "for currency in [\"USD\", \"GBP\", \"PLN\", \"CAD\", \"CZK\"]:\n",
    "    print(f\"- {rates[currency]:.4f} EUR/{currency}\")"
   ]
  },
  {
   "cell_type": "code",
   "execution_count": null,
   "id": "a16bc849-1a41-4587-880a-08dfe6148f71",
   "metadata": {},
   "outputs": [],
   "source": []
  }
 ],
 "metadata": {
  "kernelspec": {
   "display_name": "Python 3 (ipykernel)",
   "language": "python",
   "name": "python3"
  },
  "language_info": {
   "codemirror_mode": {
    "name": "ipython",
    "version": 3
   },
   "file_extension": ".py",
   "mimetype": "text/x-python",
   "name": "python",
   "nbconvert_exporter": "python",
   "pygments_lexer": "ipython3",
   "version": "3.13.5"
  }
 },
 "nbformat": 4,
 "nbformat_minor": 5
}
