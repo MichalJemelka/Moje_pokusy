{
 "cells": [
  {
   "cell_type": "code",
   "execution_count": 2,
   "id": "41f57ee0-c99e-4f65-8939-2f5388f4576c",
   "metadata": {},
   "outputs": [
    {
     "name": "stdin",
     "output_type": "stream",
     "text": [
      "Enter the currency to convert PLN into (e.g. USD):  CZK\n",
      "Enter the amount in PLN to convert:  7000\n"
     ]
    },
    {
     "name": "stdout",
     "output_type": "stream",
     "text": [
      "7000.0 PLN = 40067.45 CZK\n"
     ]
    }
   ],
   "source": [
    "# příklad na převod měn podle dat z webu\n",
    "\n",
    "import requests\n",
    "\n",
    "# --- Part 1: user input ---\n",
    "target_currency = input(\"Enter the currency to convert PLN into (e.g. USD): \").upper()\n",
    "amount_pln = float(input(\"Enter the amount in PLN to convert: \"))\n",
    "\n",
    "# --- Query API for conversion ---\n",
    "url = f\"https://open.er-api.com/v6/latest/PLN\"  # kurzová data pro PLN jako základ\n",
    "response = requests.get(url)\n",
    "\n",
    "# --- Part 2: handle errors ---\n",
    "if response.status_code != 200:\n",
    "    print(\"Error: API is not available right now.\")\n",
    "else:\n",
    "    data = response.json()\n",
    "\n",
    "    # API vrací \"result\":\"success\" pouze pro platné odpovědi\n",
    "    if data.get(\"result\") != \"success\":\n",
    "        print(\"Error: API returned unexpected response.\")\n",
    "    else:\n",
    "        rates = data.get(\"rates\", {})\n",
    "        if target_currency not in rates:\n",
    "            print(\"There is no such currency!\")\n",
    "        else:\n",
    "            rate = rates[target_currency]\n",
    "            converted = round(amount_pln * rate, 2)\n",
    "            print(f\"{amount_pln} PLN = {converted} {target_currency}\")"
   ]
  },
  {
   "cell_type": "code",
   "execution_count": null,
   "id": "1150c634-d482-4c91-bf82-419b3b2896b2",
   "metadata": {},
   "outputs": [],
   "source": []
  }
 ],
 "metadata": {
  "kernelspec": {
   "display_name": "Python 3 (ipykernel)",
   "language": "python",
   "name": "python3"
  },
  "language_info": {
   "codemirror_mode": {
    "name": "ipython",
    "version": 3
   },
   "file_extension": ".py",
   "mimetype": "text/x-python",
   "name": "python",
   "nbconvert_exporter": "python",
   "pygments_lexer": "ipython3",
   "version": "3.13.5"
  }
 },
 "nbformat": 4,
 "nbformat_minor": 5
}
